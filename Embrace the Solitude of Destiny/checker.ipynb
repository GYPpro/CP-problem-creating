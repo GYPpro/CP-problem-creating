{
 "cells": [
  {
   "cell_type": "code",
   "execution_count": 1,
   "metadata": {},
   "outputs": [],
   "source": [
    "import subprocess\n",
    "import os\n",
    "import tempfile\n",
    "import random\n",
    "import uuid\n",
    "import numpy as np\n",
    "import hashlib\n",
    "from tqdm import tqdm"
   ]
  },
  {
   "cell_type": "code",
   "execution_count": 3,
   "metadata": {},
   "outputs": [
    {
     "ename": "IndentationError",
     "evalue": "expected an indented block after 'else' statement on line 30 (3113196453.py, line 33)",
     "output_type": "error",
     "traceback": [
      "\u001b[0;36m  Cell \u001b[0;32mIn[3], line 33\u001b[0;36m\u001b[0m\n\u001b[0;31m    run_proc = subprocess.run(\u001b[0m\n\u001b[0m    ^\u001b[0m\n\u001b[0;31mIndentationError\u001b[0m\u001b[0;31m:\u001b[0m expected an indented block after 'else' statement on line 30\n"
     ]
    }
   ],
   "source": [
    "def run(input_str: str, cpp_filename: str, timeout: int = 10) -> str:\n",
    "    \"\"\"\n",
    "    编译并运行C++程序，将输入字符串作为标准输入，返回程序的标准输出\n",
    "    \n",
    "    参数:\n",
    "        input_str: 输入到程序的字符串\n",
    "        cpp_filename: C++源代码文件路径\n",
    "        timeout: 程序运行超时时间（秒）\n",
    "    \n",
    "    返回:\n",
    "        str: 程序的标准输出内容\n",
    "        \n",
    "    异常:\n",
    "        RuntimeError: 如果编译失败或程序运行超时\n",
    "    \"\"\"\n",
    "    # 生成唯一的临时可执行文件路径\n",
    "    exe_path = os.path.join(tempfile.gettempdir(), f\"temp_exe_{uuid.uuid4()}\")\n",
    "    \n",
    "    try:\n",
    "        # 编译C++程序\n",
    "        compile_proc = subprocess.run(\n",
    "            [\"g++\", cpp_filename, \"-o\", exe_path],\n",
    "            capture_output=True,\n",
    "            text=True\n",
    "        )\n",
    "        \n",
    "        if compile_proc.returncode != 0:\n",
    "            error_msg = f\"编译失败：\\n{compile_proc.stderr}\"\n",
    "            raise RuntimeError(error_msg)\n",
    "        else :\n",
    "            # print(\"LOG:编译完成\")\n",
    "        # 运行编译后的程序\n",
    "        run_proc = subprocess.run(\n",
    "            [exe_path],\n",
    "            input=input_str,\n",
    "            capture_output=True,\n",
    "            text=True,\n",
    "            timeout=timeout\n",
    "        )\n",
    "        print(\"ERR:\" + run_proc.stderr)\n",
    "        return run_proc.stdout\n",
    "        \n",
    "    except subprocess.TimeoutExpired:\n",
    "        raise RuntimeError(f\"程序运行超时（{timeout}秒）\")\n",
    "        \n",
    "    finally:\n",
    "        # 清理临时可执行文件\n",
    "        if os.path.exists(exe_path):\n",
    "            os.remove(exe_path)"
   ]
  },
  {
   "cell_type": "code",
   "execution_count": 70,
   "metadata": {},
   "outputs": [],
   "source": [
    "def run(\n",
    "    input_str: str,\n",
    "    cpp_filename: str,\n",
    "    timeout: int = 3,\n",
    "    force_recompile: bool = False\n",
    ") -> str:\n",
    "    \"\"\"\n",
    "    编译并运行C++程序，支持增量编译\n",
    "    \n",
    "    参数:\n",
    "        input_str: 输入到程序的字符串\n",
    "        cpp_filename: C++源代码文件路径\n",
    "        timeout: 程序运行超时时间（秒）\n",
    "        force_recompile: 是否强制重新编译（默认False）\n",
    "    \n",
    "    返回:\n",
    "        str: 程序的标准输出内容\n",
    "        \n",
    "    异常:\n",
    "        RuntimeError: 如果编译失败或程序运行超时\n",
    "    \"\"\"\n",
    "    # 生成唯一但稳定的可执行文件路径\n",
    "    abs_cpp_path = os.path.abspath(cpp_filename)\n",
    "    path_hash = hashlib.md5(abs_cpp_path.encode()).hexdigest()\n",
    "    exe_path = os.path.join(tempfile.gettempdir(), f\"cpp_{path_hash}\")\n",
    "\n",
    "    try:\n",
    "        # 编译条件判断\n",
    "        if force_recompile or not os.path.exists(exe_path):\n",
    "            # 编译C++程序\n",
    "            compile_proc = subprocess.run(\n",
    "                [\"g++\", cpp_filename, \"-o\", exe_path],\n",
    "                capture_output=True,\n",
    "                text=True\n",
    "            )\n",
    "            \n",
    "            if compile_proc.returncode != 0:\n",
    "                if os.path.exists(exe_path):\n",
    "                    os.remove(exe_path)  # 清理无效的可执行文件\n",
    "                raise RuntimeError(f\"编译失败：\\n{compile_proc.stderr}\")\n",
    "\n",
    "        # 运行程序\n",
    "        run_proc = subprocess.run(\n",
    "            [exe_path],\n",
    "            input=input_str,\n",
    "            capture_output=True,\n",
    "            text=True,\n",
    "            timeout=timeout\n",
    "        )\n",
    "        if len(run_proc.stderr) != 0:\n",
    "            print(\"ERR:\" + run_proc.stderr)\n",
    "        return run_proc.stdout\n",
    "\n",
    "    except subprocess.TimeoutExpired:\n",
    "        # raise RuntimeError(f\"程序{cpp_filename}运行超时（{timeout}秒）\")\n",
    "        if(cpp_filename == \"gnc.cpp\"):\n",
    "            print(f\"测试点生成失败\")\n",
    "        else :\n",
    "            print(\"TLE\")\n",
    "        # print(f\"{input_str}\")\n",
    "        return \"0\\n\"\n",
    "        \n",
    "    # except Exception as e:\n",
    "        # if os.path.exists(exe_path):\n",
    "        #     os.remove(exe_path)  # 发生异常时清理可执行文件\n",
    "        # raise"
   ]
  },
  {
   "cell_type": "code",
   "execution_count": 71,
   "metadata": {},
   "outputs": [],
   "source": [
    "seed = 113\n",
    "ans = 11\n",
    "n = 1"
   ]
  },
  {
   "cell_type": "code",
   "execution_count": 73,
   "metadata": {},
   "outputs": [
    {
     "name": "stderr",
     "output_type": "stream",
     "text": [
      "  0%|          | 52/30000 [01:00<9:36:33,  1.16s/it] \n"
     ]
    },
    {
     "ename": "KeyboardInterrupt",
     "evalue": "",
     "output_type": "error",
     "traceback": [
      "\u001b[0;31m---------------------------------------------------------------------------\u001b[0m",
      "\u001b[0;31mKeyboardInterrupt\u001b[0m                         Traceback (most recent call last)",
      "Cell \u001b[0;32mIn[73], line 13\u001b[0m\n\u001b[1;32m     11\u001b[0m ans \u001b[38;5;241m=\u001b[39m np\u001b[38;5;241m.\u001b[39mrandom\u001b[38;5;241m.\u001b[39mrandint(\u001b[38;5;241m1\u001b[39m,\u001b[38;5;241m1e9\u001b[39m)\n\u001b[1;32m     12\u001b[0m n \u001b[38;5;241m=\u001b[39m np\u001b[38;5;241m.\u001b[39mrandom\u001b[38;5;241m.\u001b[39mrandint(\u001b[38;5;241m1\u001b[39m,\u001b[38;5;241m500\u001b[39m)\n\u001b[0;32m---> 13\u001b[0m tc \u001b[38;5;241m=\u001b[39m \u001b[43mrun\u001b[49m\u001b[43m(\u001b[49m\n\u001b[1;32m     14\u001b[0m \u001b[43m    \u001b[49m\u001b[43mcpp_filename\u001b[49m\u001b[43m \u001b[49m\u001b[38;5;241;43m=\u001b[39;49m\u001b[43m \u001b[49m\u001b[38;5;124;43m\"\u001b[39;49m\u001b[38;5;124;43mgnc.cpp\u001b[39;49m\u001b[38;5;124;43m\"\u001b[39;49m\u001b[43m,\u001b[49m\n\u001b[1;32m     15\u001b[0m \u001b[43m    \u001b[49m\u001b[43minput_str\u001b[49m\u001b[43m \u001b[49m\u001b[38;5;241;43m=\u001b[39;49m\u001b[43m \u001b[49m\u001b[38;5;124;43mf\u001b[39;49m\u001b[38;5;124;43m\"\u001b[39;49m\u001b[38;5;132;43;01m{\u001b[39;49;00m\u001b[43mkey\u001b[49m\u001b[38;5;132;43;01m}\u001b[39;49;00m\u001b[38;5;124;43m \u001b[39;49m\u001b[38;5;132;43;01m{\u001b[39;49;00m\u001b[43mans\u001b[49m\u001b[38;5;132;43;01m}\u001b[39;49;00m\u001b[38;5;124;43m \u001b[39;49m\u001b[38;5;132;43;01m{\u001b[39;49;00m\u001b[43mn\u001b[49m\u001b[38;5;132;43;01m}\u001b[39;49;00m\u001b[38;5;124;43m\"\u001b[39;49m\n\u001b[1;32m     16\u001b[0m \u001b[43m\u001b[49m\u001b[43m)\u001b[49m\n\u001b[1;32m     17\u001b[0m res \u001b[38;5;241m=\u001b[39m run(\n\u001b[1;32m     18\u001b[0m     cpp_filename \u001b[38;5;241m=\u001b[39m \u001b[38;5;124m\"\u001b[39m\u001b[38;5;124mstd.cpp\u001b[39m\u001b[38;5;124m\"\u001b[39m,\n\u001b[1;32m     19\u001b[0m     input_str \u001b[38;5;241m=\u001b[39m tc\n\u001b[1;32m     20\u001b[0m )\n\u001b[1;32m     21\u001b[0m \u001b[38;5;28;01mif\u001b[39;00m \u001b[38;5;28mint\u001b[39m(res) \u001b[38;5;241m!=\u001b[39m ans:\n",
      "Cell \u001b[0;32mIn[70], line 43\u001b[0m, in \u001b[0;36mrun\u001b[0;34m(input_str, cpp_filename, timeout, force_recompile)\u001b[0m\n\u001b[1;32m     40\u001b[0m         \u001b[38;5;28;01mraise\u001b[39;00m \u001b[38;5;167;01mRuntimeError\u001b[39;00m(\u001b[38;5;124mf\u001b[39m\u001b[38;5;124m\"\u001b[39m\u001b[38;5;124m编译失败：\u001b[39m\u001b[38;5;130;01m\\n\u001b[39;00m\u001b[38;5;132;01m{\u001b[39;00mcompile_proc\u001b[38;5;241m.\u001b[39mstderr\u001b[38;5;132;01m}\u001b[39;00m\u001b[38;5;124m\"\u001b[39m)\n\u001b[1;32m     42\u001b[0m \u001b[38;5;66;03m# 运行程序\u001b[39;00m\n\u001b[0;32m---> 43\u001b[0m run_proc \u001b[38;5;241m=\u001b[39m \u001b[43msubprocess\u001b[49m\u001b[38;5;241;43m.\u001b[39;49m\u001b[43mrun\u001b[49m\u001b[43m(\u001b[49m\n\u001b[1;32m     44\u001b[0m \u001b[43m    \u001b[49m\u001b[43m[\u001b[49m\u001b[43mexe_path\u001b[49m\u001b[43m]\u001b[49m\u001b[43m,\u001b[49m\n\u001b[1;32m     45\u001b[0m \u001b[43m    \u001b[49m\u001b[38;5;28;43minput\u001b[39;49m\u001b[38;5;241;43m=\u001b[39;49m\u001b[43minput_str\u001b[49m\u001b[43m,\u001b[49m\n\u001b[1;32m     46\u001b[0m \u001b[43m    \u001b[49m\u001b[43mcapture_output\u001b[49m\u001b[38;5;241;43m=\u001b[39;49m\u001b[38;5;28;43;01mTrue\u001b[39;49;00m\u001b[43m,\u001b[49m\n\u001b[1;32m     47\u001b[0m \u001b[43m    \u001b[49m\u001b[43mtext\u001b[49m\u001b[38;5;241;43m=\u001b[39;49m\u001b[38;5;28;43;01mTrue\u001b[39;49;00m\u001b[43m,\u001b[49m\n\u001b[1;32m     48\u001b[0m \u001b[43m    \u001b[49m\u001b[43mtimeout\u001b[49m\u001b[38;5;241;43m=\u001b[39;49m\u001b[43mtimeout\u001b[49m\n\u001b[1;32m     49\u001b[0m \u001b[43m\u001b[49m\u001b[43m)\u001b[49m\n\u001b[1;32m     50\u001b[0m \u001b[38;5;28;01mif\u001b[39;00m \u001b[38;5;28mlen\u001b[39m(run_proc\u001b[38;5;241m.\u001b[39mstderr) \u001b[38;5;241m!=\u001b[39m \u001b[38;5;241m0\u001b[39m:\n\u001b[1;32m     51\u001b[0m     \u001b[38;5;28mprint\u001b[39m(\u001b[38;5;124m\"\u001b[39m\u001b[38;5;124mERR:\u001b[39m\u001b[38;5;124m\"\u001b[39m \u001b[38;5;241m+\u001b[39m run_proc\u001b[38;5;241m.\u001b[39mstderr)\n",
      "File \u001b[0;32m/usr/lib/python3.10/subprocess.py:505\u001b[0m, in \u001b[0;36mrun\u001b[0;34m(input, capture_output, timeout, check, *popenargs, **kwargs)\u001b[0m\n\u001b[1;32m    503\u001b[0m \u001b[38;5;28;01mwith\u001b[39;00m Popen(\u001b[38;5;241m*\u001b[39mpopenargs, \u001b[38;5;241m*\u001b[39m\u001b[38;5;241m*\u001b[39mkwargs) \u001b[38;5;28;01mas\u001b[39;00m process:\n\u001b[1;32m    504\u001b[0m     \u001b[38;5;28;01mtry\u001b[39;00m:\n\u001b[0;32m--> 505\u001b[0m         stdout, stderr \u001b[38;5;241m=\u001b[39m \u001b[43mprocess\u001b[49m\u001b[38;5;241;43m.\u001b[39;49m\u001b[43mcommunicate\u001b[49m\u001b[43m(\u001b[49m\u001b[38;5;28;43minput\u001b[39;49m\u001b[43m,\u001b[49m\u001b[43m \u001b[49m\u001b[43mtimeout\u001b[49m\u001b[38;5;241;43m=\u001b[39;49m\u001b[43mtimeout\u001b[49m\u001b[43m)\u001b[49m\n\u001b[1;32m    506\u001b[0m     \u001b[38;5;28;01mexcept\u001b[39;00m TimeoutExpired \u001b[38;5;28;01mas\u001b[39;00m exc:\n\u001b[1;32m    507\u001b[0m         process\u001b[38;5;241m.\u001b[39mkill()\n",
      "File \u001b[0;32m/usr/lib/python3.10/subprocess.py:1154\u001b[0m, in \u001b[0;36mPopen.communicate\u001b[0;34m(self, input, timeout)\u001b[0m\n\u001b[1;32m   1151\u001b[0m     endtime \u001b[38;5;241m=\u001b[39m \u001b[38;5;28;01mNone\u001b[39;00m\n\u001b[1;32m   1153\u001b[0m \u001b[38;5;28;01mtry\u001b[39;00m:\n\u001b[0;32m-> 1154\u001b[0m     stdout, stderr \u001b[38;5;241m=\u001b[39m \u001b[38;5;28;43mself\u001b[39;49m\u001b[38;5;241;43m.\u001b[39;49m\u001b[43m_communicate\u001b[49m\u001b[43m(\u001b[49m\u001b[38;5;28;43minput\u001b[39;49m\u001b[43m,\u001b[49m\u001b[43m \u001b[49m\u001b[43mendtime\u001b[49m\u001b[43m,\u001b[49m\u001b[43m \u001b[49m\u001b[43mtimeout\u001b[49m\u001b[43m)\u001b[49m\n\u001b[1;32m   1155\u001b[0m \u001b[38;5;28;01mexcept\u001b[39;00m \u001b[38;5;167;01mKeyboardInterrupt\u001b[39;00m:\n\u001b[1;32m   1156\u001b[0m     \u001b[38;5;66;03m# https://bugs.python.org/issue25942\u001b[39;00m\n\u001b[1;32m   1157\u001b[0m     \u001b[38;5;66;03m# See the detailed comment in .wait().\u001b[39;00m\n\u001b[1;32m   1158\u001b[0m     \u001b[38;5;28;01mif\u001b[39;00m timeout \u001b[38;5;129;01mis\u001b[39;00m \u001b[38;5;129;01mnot\u001b[39;00m \u001b[38;5;28;01mNone\u001b[39;00m:\n",
      "File \u001b[0;32m/usr/lib/python3.10/subprocess.py:2021\u001b[0m, in \u001b[0;36mPopen._communicate\u001b[0;34m(self, input, endtime, orig_timeout)\u001b[0m\n\u001b[1;32m   2014\u001b[0m     \u001b[38;5;28mself\u001b[39m\u001b[38;5;241m.\u001b[39m_check_timeout(endtime, orig_timeout,\n\u001b[1;32m   2015\u001b[0m                         stdout, stderr,\n\u001b[1;32m   2016\u001b[0m                         skip_check_and_raise\u001b[38;5;241m=\u001b[39m\u001b[38;5;28;01mTrue\u001b[39;00m)\n\u001b[1;32m   2017\u001b[0m     \u001b[38;5;28;01mraise\u001b[39;00m \u001b[38;5;167;01mRuntimeError\u001b[39;00m(  \u001b[38;5;66;03m# Impossible :)\u001b[39;00m\n\u001b[1;32m   2018\u001b[0m         \u001b[38;5;124m'\u001b[39m\u001b[38;5;124m_check_timeout(..., skip_check_and_raise=True) \u001b[39m\u001b[38;5;124m'\u001b[39m\n\u001b[1;32m   2019\u001b[0m         \u001b[38;5;124m'\u001b[39m\u001b[38;5;124mfailed to raise TimeoutExpired.\u001b[39m\u001b[38;5;124m'\u001b[39m)\n\u001b[0;32m-> 2021\u001b[0m ready \u001b[38;5;241m=\u001b[39m \u001b[43mselector\u001b[49m\u001b[38;5;241;43m.\u001b[39;49m\u001b[43mselect\u001b[49m\u001b[43m(\u001b[49m\u001b[43mtimeout\u001b[49m\u001b[43m)\u001b[49m\n\u001b[1;32m   2022\u001b[0m \u001b[38;5;28mself\u001b[39m\u001b[38;5;241m.\u001b[39m_check_timeout(endtime, orig_timeout, stdout, stderr)\n\u001b[1;32m   2024\u001b[0m \u001b[38;5;66;03m# XXX Rewrite these to use non-blocking I/O on the file\u001b[39;00m\n\u001b[1;32m   2025\u001b[0m \u001b[38;5;66;03m# objects; they are no longer using C stdio!\u001b[39;00m\n",
      "File \u001b[0;32m/usr/lib/python3.10/selectors.py:416\u001b[0m, in \u001b[0;36m_PollLikeSelector.select\u001b[0;34m(self, timeout)\u001b[0m\n\u001b[1;32m    414\u001b[0m ready \u001b[38;5;241m=\u001b[39m []\n\u001b[1;32m    415\u001b[0m \u001b[38;5;28;01mtry\u001b[39;00m:\n\u001b[0;32m--> 416\u001b[0m     fd_event_list \u001b[38;5;241m=\u001b[39m \u001b[38;5;28;43mself\u001b[39;49m\u001b[38;5;241;43m.\u001b[39;49m\u001b[43m_selector\u001b[49m\u001b[38;5;241;43m.\u001b[39;49m\u001b[43mpoll\u001b[49m\u001b[43m(\u001b[49m\u001b[43mtimeout\u001b[49m\u001b[43m)\u001b[49m\n\u001b[1;32m    417\u001b[0m \u001b[38;5;28;01mexcept\u001b[39;00m \u001b[38;5;167;01mInterruptedError\u001b[39;00m:\n\u001b[1;32m    418\u001b[0m     \u001b[38;5;28;01mreturn\u001b[39;00m ready\n",
      "\u001b[0;31mKeyboardInterrupt\u001b[0m: "
     ]
    }
   ],
   "source": [
    "# NO\n",
    "T = 0\n",
    "\n",
    "CPS = 20\n",
    "\n",
    "# while True:\n",
    "\n",
    "for i in tqdm(range(30000)):\n",
    "    T += 1\n",
    "    key = np.random.randint(1,1145140000)\n",
    "    ans = np.random.randint(1,1e9)\n",
    "    n = np.random.randint(1,500)\n",
    "    tc = run(\n",
    "        cpp_filename = \"gnc.cpp\",\n",
    "        input_str = f\"{key} {ans} {n}\"\n",
    "    )\n",
    "    res = run(\n",
    "        cpp_filename = \"std.cpp\",\n",
    "        input_str = tc\n",
    "    )\n",
    "    if int(res) != ans:\n",
    "        T -= 1\n",
    "        print(f\"WA at:{tc}\")\n",
    "        break\n",
    "    else :\n",
    "        pass\n",
    "        # print(f\"pass testcases {T}\")"
   ]
  },
  {
   "cell_type": "code",
   "execution_count": null,
   "metadata": {},
   "outputs": [],
   "source": [
    "if \"YES\" not in \"1 24131YESYES\":\n",
    "    print(111)"
   ]
  },
  {
   "cell_type": "code",
   "execution_count": 53,
   "metadata": {},
   "outputs": [
    {
     "name": "stdout",
     "output_type": "stream",
     "text": [
      "0\n",
      "\n"
     ]
    }
   ],
   "source": [
    "# while True:\n",
    "print(\n",
    "    run(\n",
    "        cpp_filename=\"std.cpp\",\n",
    "        input_str=run(cpp_filename=\"gnc.cpp\",input_str=f\"{key} {ans} {n}\\n\",timeout=3,force_recompile=1),\n",
    "        timeout = 1,\n",
    "        force_recompile=1\n",
    "    )\n",
    ")"
   ]
  },
  {
   "cell_type": "code",
   "execution_count": 46,
   "metadata": {},
   "outputs": [
    {
     "data": {
      "text/plain": [
       "2"
      ]
     },
     "execution_count": 46,
     "metadata": {},
     "output_type": "execute_result"
    }
   ],
   "source": [
    "n"
   ]
  },
  {
   "cell_type": "code",
   "execution_count": 54,
   "metadata": {},
   "outputs": [
    {
     "name": "stdout",
     "output_type": "stream",
     "text": [
      "2 8\n",
      "1\n",
      "24 48 1000000007\n",
      "3 7 6 7\n",
      "1\n",
      "504 312 1000000007\n",
      "5 8 9 2\n",
      "\n"
     ]
    }
   ],
   "source": [
    "print(run(cpp_filename=\"gnc.cpp\",input_str=f\"{key} {ans} {n}\\n\",timeout=3,force_recompile=1))"
   ]
  },
  {
   "cell_type": "code",
   "execution_count": 32,
   "metadata": {},
   "outputs": [
    {
     "name": "stdout",
     "output_type": "stream",
     "text": [
      "测试点1生成失败\n",
      "20 NO 38462\n",
      "\n"
     ]
    },
    {
     "data": {
      "text/plain": [
       "'Yes\\nNO\\n'"
      ]
     },
     "execution_count": 32,
     "metadata": {},
     "output_type": "execute_result"
    }
   ],
   "source": [
    "run(cpp_filename=\"gnc_data.cpp\",input_str=f\"{CPS} NO {np.random.randint(1,100000)}\\n\",timeout=3,force_recompile=0)"
   ]
  },
  {
   "cell_type": "code",
   "execution_count": 20,
   "metadata": {},
   "outputs": [
    {
     "name": "stdout",
     "output_type": "stream",
     "text": [
      "LOG:编译完成\n",
      "ERR:temp_exe_8b5f1ef6-775f-4e09-8cbd-79879c97d727: std.ptc.cpp:100: void std::Frac<T>::reduce() [with T = __int128]: Assertion `abs(num) <= maxeps' failed.\n",
      "\n",
      "\n"
     ]
    }
   ],
   "source": [
    "print(run(cpp_filename=\"std.ptc.cpp\",input_str=\"\"\"1\n",
    "16 20 0 4\n",
    "0 3 15 12\n",
    "8 4 16 2\n",
    "6 5 15 6\n",
    "\"\"\",timeout=1))"
   ]
  },
  {
   "cell_type": "code",
   "execution_count": 76,
   "metadata": {},
   "outputs": [
    {
     "name": "stdout",
     "output_type": "stream",
     "text": [
      "    Index    Position        Prime\n",
      "0       1           0          2.0\n",
      "1       2    20408163   20408189.0\n",
      "2       3    40816326   40816387.0\n",
      "3       4    61224489   61224523.0\n",
      "4       5    81632653   81632653.0\n",
      "5       6   102040816  102040843.0\n",
      "6       7   122448979  122449007.0\n",
      "7       8   142857142  142857151.0\n",
      "8       9   163265306  163265327.0\n",
      "9      10   183673469  183673493.0\n",
      "10     11   204081632  204081637.0\n",
      "11     12   224489795  224489803.0\n",
      "12     13   244897959  244897979.0\n",
      "13     14   265306122  265306133.0\n",
      "14     15   285714285  285714287.0\n",
      "15     16   306122448  306122449.0\n",
      "16     17   326530612  326530619.0\n",
      "17     18   346938775  346938791.0\n",
      "18     19   367346938  367346977.0\n",
      "19     20   387755102  387755117.0\n",
      "20     21   408163265  408163271.0\n",
      "21     22   428571428  428571431.0\n",
      "22     23   448979591  448979593.0\n",
      "23     24   469387755  469387817.0\n",
      "24     25   489795918  489795919.0\n",
      "25     26   510204081  510204109.0\n",
      "26     27   530612244  530612263.0\n",
      "27     28   551020408  551020451.0\n",
      "28     29   571428571  571428577.0\n",
      "29     30   591836734  591836747.0\n",
      "30     31   612244897  612244901.0\n",
      "31     32   632653061  632653069.0\n",
      "32     33   653061224  653061301.0\n",
      "33     34   673469387  673469393.0\n",
      "34     35   693877551  693877567.0\n",
      "35     36   714285714  714285749.0\n",
      "36     37   734693877  734693909.0\n",
      "37     38   755102040  755102057.0\n",
      "38     39   775510204  775510231.0\n",
      "39     40   795918367  795918373.0\n",
      "40     41   816326530  816326531.0\n",
      "41     42   836734693  836734693.0\n",
      "42     43   857142857  857142887.0\n",
      "43     44   877551020  877551023.0\n",
      "44     45   897959183  897959191.0\n",
      "45     46   918367346  918367379.0\n",
      "46     47   938775510  938775533.0\n",
      "47     48   959183673  959183677.0\n",
      "48     49   979591836  979591849.0\n",
      "49     50  1000000000          NaN\n"
     ]
    }
   ],
   "source": [
    "import random\n",
    "import pandas as pd\n",
    "\n",
    "# Miller-Rabin primality test\n",
    "def is_prime(n):\n",
    "    if n < 2:\n",
    "        return False\n",
    "    small_primes = [2, 3, 5, 7, 11, 13, 17, 19, 23, 29]\n",
    "    for p in small_primes:\n",
    "        if n == p:\n",
    "            return True\n",
    "        if n % p == 0:\n",
    "            return False\n",
    "    # write n-1 as d*2^s\n",
    "    d, s = n - 1, 0\n",
    "    while d % 2 == 0:\n",
    "        d //= 2\n",
    "        s += 1\n",
    "    # test bases\n",
    "    test_bases = [2, 325, 9375, 28178, 450775, 9780504, 1795265022]\n",
    "    for a in test_bases:\n",
    "        if a % n == 0:\n",
    "            continue\n",
    "        x = pow(a, d, n)\n",
    "        if x == 1 or x == n - 1:\n",
    "            continue\n",
    "        for _ in range(s - 1):\n",
    "            x = pow(x, 2, n)\n",
    "            if x == n - 1:\n",
    "                break\n",
    "        else:\n",
    "            return False\n",
    "    return True\n",
    "\n",
    "# Generate 50 representative positions in [0, 1e9]\n",
    "positions = [int(i * (10**9) / 49) for i in range(50)]\n",
    "\n",
    "# Find the next prime at or after each position\n",
    "primes = []\n",
    "for pos in positions:\n",
    "    x = max(2, pos)\n",
    "    while x <= 10**9:\n",
    "        if is_prime(x):\n",
    "            primes.append(x)\n",
    "            break\n",
    "        x += 1\n",
    "    else:\n",
    "        primes.append(None)\n",
    "\n",
    "# Create a DataFrame and display\n",
    "df = pd.DataFrame({\n",
    "    'Index': list(range(1, 51)),\n",
    "    'Position': positions,\n",
    "    'Prime': primes\n",
    "})\n",
    "# import ace_tools as tools; tools.display_dataframe_to_user(name=\"50 Representative Primes in [0, 1e9]\", dataframe=df)\n",
    "print(df)\n"
   ]
  },
  {
   "cell_type": "code",
   "execution_count": null,
   "metadata": {},
   "outputs": [],
   "source": []
  }
 ],
 "metadata": {
  "kernelspec": {
   "display_name": "Python 3",
   "language": "python",
   "name": "python3"
  },
  "language_info": {
   "codemirror_mode": {
    "name": "ipython",
    "version": 3
   },
   "file_extension": ".py",
   "mimetype": "text/x-python",
   "name": "python",
   "nbconvert_exporter": "python",
   "pygments_lexer": "ipython3",
   "version": "3.10.12"
  }
 },
 "nbformat": 4,
 "nbformat_minor": 2
}
