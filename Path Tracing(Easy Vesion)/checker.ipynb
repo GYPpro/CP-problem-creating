{
 "cells": [
  {
   "cell_type": "code",
   "execution_count": null,
   "metadata": {},
   "outputs": [],
   "source": [
    "import subprocess\n",
    "import os\n",
    "import tempfile\n",
    "import random\n",
    "import uuid\n",
    "import numpy as np\n",
    "import hashlib\n",
    "from tqdm import tqdm"
   ]
  },
  {
   "cell_type": "code",
   "execution_count": 21,
   "metadata": {},
   "outputs": [],
   "source": [
    "def run(\n",
    "    input_str: str,\n",
    "    cpp_filename: str,\n",
    "    timeout: int = 10,\n",
    "    force_recompile: bool = False\n",
    ") -> str:\n",
    "    \"\"\"\n",
    "    编译并运行C++程序，支持增量编译\n",
    "    \n",
    "    参数:\n",
    "        input_str: 输入到程序的字符串\n",
    "        cpp_filename: C++源代码文件路径\n",
    "        timeout: 程序运行超时时间（秒）\n",
    "        force_recompile: 是否强制重新编译（默认False）\n",
    "    \n",
    "    返回:\n",
    "        str: 程序的标准输出内容\n",
    "        \n",
    "    异常:\n",
    "        RuntimeError: 如果编译失败或程序运行超时\n",
    "    \"\"\"\n",
    "    # 生成唯一但稳定的可执行文件路径\n",
    "    abs_cpp_path = os.path.abspath(cpp_filename)\n",
    "    path_hash = hashlib.md5(abs_cpp_path.encode()).hexdigest()\n",
    "    exe_path = os.path.join(tempfile.gettempdir(), f\"cpp_{path_hash}\")\n",
    "\n",
    "    try:\n",
    "        # 编译条件判断\n",
    "        if force_recompile or not os.path.exists(exe_path):\n",
    "            # 编译C++程序\n",
    "            compile_proc = subprocess.run(\n",
    "                [\"g++\", cpp_filename, \"-o\", exe_path],\n",
    "                capture_output=True,\n",
    "                text=True\n",
    "            )\n",
    "            \n",
    "            if compile_proc.returncode != 0:\n",
    "                if os.path.exists(exe_path):\n",
    "                    os.remove(exe_path)  # 清理无效的可执行文件\n",
    "                raise RuntimeError(f\"编译失败：\\n{compile_proc.stderr}\")\n",
    "\n",
    "        # 运行程序\n",
    "        run_proc = subprocess.run(\n",
    "            [exe_path],\n",
    "            input=input_str,\n",
    "            capture_output=True,\n",
    "            text=True,\n",
    "            timeout=timeout\n",
    "        )\n",
    "        if len(run_proc.stderr) != 0:\n",
    "            raise RuntimeError(f\"操你妈的RE了\")\n",
    "            print(\"ERR:\" + run_proc.stderr)\n",
    "        return run_proc.stdout\n",
    "\n",
    "    except subprocess.TimeoutExpired:\n",
    "        # raise RuntimeError(f\"程序{cpp_filename}运行超时（{timeout}秒）\")\n",
    "        # print(f\"测试点生成失败\")\n",
    "        # print(f\"{input_str}\")\n",
    "        return \"\"\n",
    "        \n",
    "    # except Exception as e:\n",
    "        # if os.path.exists(exe_path):\n",
    "        #     os.remove(exe_path)  # 发生异常时清理可执行文件\n",
    "        # raise"
   ]
  },
  {
   "cell_type": "code",
   "execution_count": 22,
   "metadata": {},
   "outputs": [
    {
     "name": "stderr",
     "output_type": "stream",
     "text": [
      "  0%|          | 0/30000 [00:00<?, ?it/s]\n"
     ]
    },
    {
     "ename": "RuntimeError",
     "evalue": "操你妈的RE了",
     "output_type": "error",
     "traceback": [
      "\u001b[0;31m---------------------------------------------------------------------------\u001b[0m",
      "\u001b[0;31mRuntimeError\u001b[0m                              Traceback (most recent call last)",
      "Cell \u001b[0;32mIn[22], line 11\u001b[0m\n\u001b[1;32m      9\u001b[0m T \u001b[38;5;241m+\u001b[39m\u001b[38;5;241m=\u001b[39m \u001b[38;5;241m1\u001b[39m\n\u001b[1;32m     10\u001b[0m key \u001b[38;5;241m=\u001b[39m np\u001b[38;5;241m.\u001b[39mrandom\u001b[38;5;241m.\u001b[39mrandint(\u001b[38;5;241m1\u001b[39m,\u001b[38;5;241m1145140000\u001b[39m)\n\u001b[0;32m---> 11\u001b[0m \u001b[38;5;28;01mif\u001b[39;00m \u001b[38;5;124m\"\u001b[39m\u001b[38;5;124mYes\u001b[39m\u001b[38;5;124m\"\u001b[39m \u001b[38;5;129;01mnot\u001b[39;00m \u001b[38;5;129;01min\u001b[39;00m \u001b[43mrun\u001b[49m\u001b[43m(\u001b[49m\n\u001b[1;32m     12\u001b[0m \u001b[43m        \u001b[49m\u001b[43mcpp_filename\u001b[49m\u001b[38;5;241;43m=\u001b[39;49m\u001b[38;5;124;43m\"\u001b[39;49m\u001b[38;5;124;43mstd.ptc.cpp\u001b[39;49m\u001b[38;5;124;43m\"\u001b[39;49m\u001b[43m,\u001b[49m\n\u001b[1;32m     13\u001b[0m \u001b[43m        \u001b[49m\u001b[43minput_str\u001b[49m\u001b[38;5;241;43m=\u001b[39;49m\u001b[43mrun\u001b[49m\u001b[43m(\u001b[49m\u001b[43mcpp_filename\u001b[49m\u001b[38;5;241;43m=\u001b[39;49m\u001b[38;5;124;43m\"\u001b[39;49m\u001b[38;5;124;43mgnc_data.cpp\u001b[39;49m\u001b[38;5;124;43m\"\u001b[39;49m\u001b[43m,\u001b[49m\u001b[43minput_str\u001b[49m\u001b[38;5;241;43m=\u001b[39;49m\u001b[38;5;124;43mf\u001b[39;49m\u001b[38;5;124;43m\"\u001b[39;49m\u001b[38;5;132;43;01m{\u001b[39;49;00m\u001b[43mCPS\u001b[49m\u001b[38;5;132;43;01m}\u001b[39;49;00m\u001b[38;5;124;43m YES \u001b[39;49m\u001b[38;5;132;43;01m{\u001b[39;49;00m\u001b[43mkey\u001b[49m\u001b[38;5;132;43;01m}\u001b[39;49;00m\u001b[38;5;130;43;01m\\n\u001b[39;49;00m\u001b[38;5;124;43m\"\u001b[39;49m\u001b[43m,\u001b[49m\u001b[43mtimeout\u001b[49m\u001b[38;5;241;43m=\u001b[39;49m\u001b[38;5;241;43m3\u001b[39;49m\u001b[43m)\u001b[49m\u001b[43m,\u001b[49m\n\u001b[1;32m     14\u001b[0m \u001b[43m        \u001b[49m\u001b[43mtimeout\u001b[49m\u001b[43m \u001b[49m\u001b[38;5;241;43m=\u001b[39;49m\u001b[43m \u001b[49m\u001b[38;5;241;43m1\u001b[39;49m\n\u001b[1;32m     15\u001b[0m \u001b[43m    \u001b[49m\u001b[43m)\u001b[49m :\n\u001b[1;32m     17\u001b[0m     \u001b[38;5;28mprint\u001b[39m(\u001b[38;5;124mf\u001b[39m\u001b[38;5;124m\"\u001b[39m\u001b[38;5;124mWrown AT testcases \u001b[39m\u001b[38;5;132;01m{\u001b[39;00mT\u001b[38;5;132;01m}\u001b[39;00m\u001b[38;5;124m:\u001b[39m\u001b[38;5;124m\"\u001b[39m)\n\u001b[1;32m     18\u001b[0m     \u001b[38;5;28mprint\u001b[39m(key)\n",
      "Cell \u001b[0;32mIn[21], line 51\u001b[0m, in \u001b[0;36mrun\u001b[0;34m(input_str, cpp_filename, timeout, force_recompile)\u001b[0m\n\u001b[1;32m     43\u001b[0m run_proc \u001b[38;5;241m=\u001b[39m subprocess\u001b[38;5;241m.\u001b[39mrun(\n\u001b[1;32m     44\u001b[0m     [exe_path],\n\u001b[1;32m     45\u001b[0m     \u001b[38;5;28minput\u001b[39m\u001b[38;5;241m=\u001b[39minput_str,\n\u001b[0;32m   (...)\u001b[0m\n\u001b[1;32m     48\u001b[0m     timeout\u001b[38;5;241m=\u001b[39mtimeout\n\u001b[1;32m     49\u001b[0m )\n\u001b[1;32m     50\u001b[0m \u001b[38;5;28;01mif\u001b[39;00m \u001b[38;5;28mlen\u001b[39m(run_proc\u001b[38;5;241m.\u001b[39mstderr) \u001b[38;5;241m!=\u001b[39m \u001b[38;5;241m0\u001b[39m:\n\u001b[0;32m---> 51\u001b[0m     \u001b[38;5;28;01mraise\u001b[39;00m \u001b[38;5;167;01mRuntimeError\u001b[39;00m(\u001b[38;5;124mf\u001b[39m\u001b[38;5;124m\"\u001b[39m\u001b[38;5;124m操你妈的RE了\u001b[39m\u001b[38;5;124m\"\u001b[39m)\n\u001b[1;32m     52\u001b[0m     \u001b[38;5;28mprint\u001b[39m(\u001b[38;5;124m\"\u001b[39m\u001b[38;5;124mERR:\u001b[39m\u001b[38;5;124m\"\u001b[39m \u001b[38;5;241m+\u001b[39m run_proc\u001b[38;5;241m.\u001b[39mstderr)\n\u001b[1;32m     53\u001b[0m \u001b[38;5;28;01mreturn\u001b[39;00m run_proc\u001b[38;5;241m.\u001b[39mstdout\n",
      "\u001b[0;31mRuntimeError\u001b[0m: 操你妈的RE了"
     ]
    }
   ],
   "source": [
    "# YES\n",
    "T = 0\n",
    "\n",
    "CPS = 240\n",
    "\n",
    "# while True:\n",
    "\n",
    "for i in tqdm(range(30000)):\n",
    "    T += 1\n",
    "    key = np.random.randint(1,1145140000)\n",
    "    if \"Yes\" not in run(\n",
    "            cpp_filename=\"std.ptc.cpp\",\n",
    "            input_str=run(cpp_filename=\"gnc_data.cpp\",input_str=f\"{CPS} YES {key}\\n\",timeout=3),\n",
    "            timeout = 1\n",
    "        ) :\n",
    "\n",
    "        print(f\"Wrown AT testcases {T}:\")\n",
    "        print(key)\n",
    "        print(run(cpp_filename=\"gnc_data.cpp\",input_str=f\"{CPS} YES {key}\\n\",timeout=2))\n",
    "        print( run(\n",
    "            cpp_filename=\"std.ptc.cpp\",\n",
    "            input_str=run(cpp_filename=\"gnc_data.cpp\",input_str=f\"{CPS} YES {key}\\n\",timeout=3),\n",
    "            timeout = 1\n",
    "        ))\n",
    "        break\n",
    "    else :\n",
    "        pass\n",
    "        # print(f\"pass testcases {T}\")"
   ]
  },
  {
   "cell_type": "code",
   "execution_count": null,
   "metadata": {},
   "outputs": [],
   "source": [
    "# NO\n",
    "T = 0\n",
    "\n",
    "CPS = 20\n",
    "\n",
    "# while True:\n",
    "\n",
    "for i in tqdm(range(30000)):\n",
    "    T += 1\n",
    "    key = np.random.randint(1,1145140000)\n",
    "    res = run(\n",
    "            cpp_filename=\"std.ptc.cpp\",\n",
    "            input_str=run(cpp_filename=\"gnc_data.cpp\",input_str=f\"{CPS} NO {key}\\n\",timeout=1),\n",
    "            timeout = 1\n",
    "        )\n",
    "    if \"NO\" not in res:\n",
    "\n",
    "        print(f\"Wrown AT testcases {T}:\")\n",
    "        print(key)\n",
    "        print(run(cpp_filename=\"gnc_data.cpp\",input_str=f\"{CPS} NO {key}\\n\",timeout=2))\n",
    "        print( run(\n",
    "            cpp_filename=\"std.ptc.cpp\",\n",
    "            input_str=run(cpp_filename=\"gnc_data.cpp\",input_str=f\"{CPS} NO {key}\\n\",timeout=1),\n",
    "            timeout = 1\n",
    "        ))\n",
    "        break\n",
    "    if \"WA\" in res:\n",
    "        T -= 1\n",
    "    else :\n",
    "        pass\n",
    "        # print(f\"pass testcases {T}\")"
   ]
  },
  {
   "cell_type": "code",
   "execution_count": null,
   "metadata": {},
   "outputs": [],
   "source": [
    "if \"YES\" not in \"1 24131YESYES\":\n",
    "    print(111)"
   ]
  },
  {
   "cell_type": "code",
   "execution_count": null,
   "metadata": {},
   "outputs": [],
   "source": [
    "# while True:\n",
    "print(\n",
    "    run(\n",
    "        cpp_filename=\"std.ptc.cpp\",\n",
    "        input_str=run(cpp_filename=\"gnc_data.cpp\",input_str=f\"{1789} NO {666120770}\\n\",timeout=1,force_recompile=1),\n",
    "        timeout = 1,\n",
    "        force_recompile=1\n",
    "    )\n",
    "\n",
    ")"
   ]
  },
  {
   "cell_type": "code",
   "execution_count": null,
   "metadata": {},
   "outputs": [],
   "source": [
    "data = \"\""
   ]
  },
  {
   "cell_type": "code",
   "execution_count": 40,
   "metadata": {},
   "outputs": [
    {
     "name": "stderr",
     "output_type": "stream",
     "text": [
      " 51%|█████     | 10148/20000 [11:50<11:29, 14.28it/s] \n"
     ]
    }
   ],
   "source": [
    "indata = [f\"{int(10000)}\\n\"]\n",
    "outdata = [\"\"]\n",
    "for i in tqdm(range(20000)):\n",
    "    seed = np.random.randint(1,10000000)\n",
    "    curtc = run(cpp_filename=\"gnc_data.cpp\",input_str=f\"{200} NO {seed}\\n\",timeout=1)\n",
    "    # if \"\\n\" not in curtc:\n",
    "    if curtc == \"\":\n",
    "        i -= 1\n",
    "        # print(\"11\")\n",
    "        continue\n",
    "    # print(seed)\n",
    "    res = run(cpp_filename=\"std.ptc.cpp\",timeout = 1,input_str=\"1\\n\"+curtc)\n",
    "    if( \"No\" not in res) and ( \"Yes\" not in res):\n",
    "        \n",
    "        print(\"FLT:\" + curtc)\n",
    "        print(res)\n",
    "        break\n",
    "    indata.append(curtc)\n",
    "    outdata.append(res)\n",
    "    # indata.append(f\"{i}^\\n\")\n",
    "    # outdata.append(\"\\n\")\n",
    "    # if len(indata)-1 != (i+1)*2:\n",
    "    #     # print(\"???\")\n",
    "    #     print(len(indata),i)\n",
    "    #     print(curtc)\n",
    "    #     print(res)\n",
    "    #     break\n",
    "    if(len(outdata) >= 10000) : break\n",
    "indata = \"\".join(indata)\n",
    "outdata = \"\".join(outdata)"
   ]
  },
  {
   "cell_type": "code",
   "execution_count": 43,
   "metadata": {},
   "outputs": [
    {
     "name": "stderr",
     "output_type": "stream",
     "text": [
      " 50%|████▉     | 9999/20000 [01:06<01:06, 149.53it/s]\n"
     ]
    }
   ],
   "source": [
    "indata = [f\"{int(10000)}\\n\"]\n",
    "outdata = [\"\"]\n",
    "for i in tqdm(range(20000)):\n",
    "    seed = np.random.randint(1,10000000)\n",
    "    curtc = run(cpp_filename=\"gnc_data.cpp\",input_str=f\"{200} YES {seed}\\n\",timeout=1)\n",
    "    # if \"\\n\" not in curtc:\n",
    "    if curtc == \"\":\n",
    "        i -= 1\n",
    "        # print(\"11\")\n",
    "        continue\n",
    "    # print(seed)\n",
    "    res = run(cpp_filename=\"std.ptc.cpp\",timeout = 1,input_str=\"1\\n\"+curtc)\n",
    "    if( \"No\" not in res) and ( \"Yes\" not in res):\n",
    "        \n",
    "        print(\"FLT:\" + curtc)\n",
    "        print(res)\n",
    "        break\n",
    "    indata.append(curtc)\n",
    "    outdata.append(res)\n",
    "    # indata.append(f\"{i}^\\n\")\n",
    "    # outdata.append(\"\\n\")\n",
    "    # if len(indata)-1 != (i+1)*2:\n",
    "    #     # print(\"???\")\n",
    "    #     print(len(indata),i)\n",
    "    #     print(curtc)\n",
    "    #     print(res)\n",
    "    #     break\n",
    "    if(len(outdata) >= 10000) : break\n",
    "indata = \"\".join(indata)\n",
    "outdata = \"\".join(outdata)"
   ]
  },
  {
   "cell_type": "code",
   "execution_count": 44,
   "metadata": {},
   "outputs": [
    {
     "data": {
      "text/plain": [
       "550595"
      ]
     },
     "execution_count": 44,
     "metadata": {},
     "output_type": "execute_result"
    }
   ],
   "source": [
    "OUT = open(\"3.in\",\"w\")\n",
    "OUT.write(indata)"
   ]
  },
  {
   "cell_type": "code",
   "execution_count": 45,
   "metadata": {},
   "outputs": [],
   "source": [
    "\n",
    "IN = open(\"3.out\",\"w\")\n",
    "IN.write(outdata)\n",
    "# OUT.close()\n",
    "IN.close()"
   ]
  },
  {
   "cell_type": "code",
   "execution_count": null,
   "metadata": {},
   "outputs": [],
   "source": [
    "print(data)"
   ]
  },
  {
   "cell_type": "code",
   "execution_count": null,
   "metadata": {},
   "outputs": [],
   "source": [
    "run(cpp_filename=\"gnc_data.cpp\",input_str=f\"{100} NO {np.random.randint(1,100000)}\\n\",timeout=3,force_recompile=1)"
   ]
  },
  {
   "cell_type": "code",
   "execution_count": null,
   "metadata": {},
   "outputs": [],
   "source": [
    "run(cpp_filename=\"gnc_data.cpp\",input_str=f\"{CPS} NO {np.random.randint(1,100000)}\\n\",timeout=3,force_recompile=0)"
   ]
  },
  {
   "cell_type": "code",
   "execution_count": 19,
   "metadata": {},
   "outputs": [
    {
     "name": "stdout",
     "output_type": "stream",
     "text": [
      "ERR:cpp_2748a469bc1c1bfe20722df4798bbb38: std.ptc.cpp:955: void solve(): Assertion `!onLine(m0.fi, m0.se , m1.fi)' failed.\n",
      "\n",
      "\n"
     ]
    }
   ],
   "source": [
    "print(run(cpp_filename=\"std.ptc.cpp\",input_str=\"\"\"1\n",
    "0 0 0 0\n",
    "0 0 0 0\n",
    "0 0 0 0\n",
    "0 0 0 0\n",
    "\"\"\",timeout=1,force_recompile = 1))"
   ]
  },
  {
   "cell_type": "code",
   "execution_count": null,
   "metadata": {},
   "outputs": [],
   "source": []
  }
 ],
 "metadata": {
  "kernelspec": {
   "display_name": "Python 3",
   "language": "python",
   "name": "python3"
  },
  "language_info": {
   "codemirror_mode": {
    "name": "ipython",
    "version": 3
   },
   "file_extension": ".py",
   "mimetype": "text/x-python",
   "name": "python",
   "nbconvert_exporter": "python",
   "pygments_lexer": "ipython3",
   "version": "3.10.12"
  }
 },
 "nbformat": 4,
 "nbformat_minor": 2
}
