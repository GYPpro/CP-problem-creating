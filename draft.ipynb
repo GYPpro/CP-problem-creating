{
 "cells": [
  {
   "cell_type": "code",
   "execution_count": 11,
   "metadata": {},
   "outputs": [
    {
     "name": "stdout",
     "output_type": "stream",
     "text": [
      "1\n",
      "3\n",
      "24\n",
      "175\n",
      "199\n",
      "200\n",
      "224\n",
      "375\n",
      "399\n",
      "400\n",
      "424\n",
      "575\n",
      "599\n",
      "600\n",
      "624\n",
      "775\n",
      "799\n",
      "800\n",
      "824\n",
      "975\n",
      "999\n"
     ]
    }
   ],
   "source": [
    "import math as mt\n",
    "\n",
    "def B(i:int):\n",
    "    res = 1\n",
    "    for k in range(1,i+1):\n",
    "        res = res * k\n",
    "    return res\n",
    "\n",
    "def A(i:int):\n",
    "    res = 0\n",
    "    for k in range(0,i+1):\n",
    "        res = res + k\n",
    "    return res\n",
    "\n",
    "for i in range(1,1000):\n",
    "    if (A(i)-B(i)) % 100 == 0:\n",
    "        print(i)"
   ]
  },
  {
   "cell_type": "code",
   "execution_count": 9,
   "metadata": {},
   "outputs": [
    {
     "data": {
      "text/plain": [
       "1"
      ]
     },
     "execution_count": 9,
     "metadata": {},
     "output_type": "execute_result"
    }
   ],
   "source": [
    "i = 24\n",
    "(i//100)*4 + (i%100 > 24) +  (i%100 > 75) +  (i%100 > 99) + (i%100 > 0)"
   ]
  },
  {
   "cell_type": "code",
   "execution_count": null,
   "metadata": {},
   "outputs": [],
   "source": []
  }
 ],
 "metadata": {
  "kernelspec": {
   "display_name": "base",
   "language": "python",
   "name": "python3"
  },
  "language_info": {
   "codemirror_mode": {
    "name": "ipython",
    "version": 3
   },
   "file_extension": ".py",
   "mimetype": "text/x-python",
   "name": "python",
   "nbconvert_exporter": "python",
   "pygments_lexer": "ipython3",
   "version": "3.11.5"
  }
 },
 "nbformat": 4,
 "nbformat_minor": 2
}
