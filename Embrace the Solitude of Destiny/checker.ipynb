{
 "cells": [
  {
   "cell_type": "code",
   "execution_count": 14,
   "metadata": {},
   "outputs": [],
   "source": [
    "import subprocess\n",
    "import os\n",
    "import tempfile\n",
    "import random\n",
    "import uuid\n",
    "import numpy as np\n",
    "import hashlib\n",
    "from tqdm import tqdm"
   ]
  },
  {
   "cell_type": "code",
   "execution_count": 58,
   "metadata": {},
   "outputs": [],
   "source": [
    "def ci(tmp):\n",
    "    # print(tmp)\n",
    "    return [int(x) for x in tmp.split(\" \")]"
   ]
  },
  {
   "cell_type": "code",
   "execution_count": 203,
   "metadata": {},
   "outputs": [],
   "source": [
    "def brtf(inp):\n",
    "    inp = inp.split(\"\\n\")\n",
    "    T,x0 = ci(inp[0])\n",
    "    TRs = []\n",
    "    inputtic = 1\n",
    "    for i in range(T):\n",
    "        r = ci(inp[inputtic])[0]\n",
    "        inputtic += 1\n",
    "        c1,c2,m = ci(inp[inputtic])\n",
    "        inputtic += 1\n",
    "        a,b,c,d = ci(inp[inputtic])\n",
    "        inputtic += 1\n",
    "        TRs.append((r,np.array([[a,b],[c,d]],dtype = np.uint64),c1,c2,m))\n",
    "    \n",
    "    def check(x1):\n",
    "        X = np.array([[x0],[x1]],dtype = np.uint64)\n",
    "        # print(X)\n",
    "        for ri,T,c1,c2,m in TRs:\n",
    "            # print(ri,T,c1,c2,m)\n",
    "            # print(X,T)\n",
    "            # print(T @ X)\n",
    "            for _ in range(ri):\n",
    "                X = T @ X\n",
    "                # print(X)\n",
    "            # print(int(X[0][0]) % m ,int(X[1][0]) % m)\n",
    "            if(int(X[0][0])  < 0 or int(X[1][0]) < 0 or \n",
    "                int(X[0][0]) > 1e18 or int(X[1][0]) > 1e18 ):\n",
    "                raise Exception(\"Out of Range\")\n",
    "            if int(X[0][0]) % m == int(c1) and int(X[1][0]) % m == int(c2) :\n",
    "                pass\n",
    "            else :\n",
    "                return 0 \n",
    "        return 1\n",
    "\n",
    "    # print(check(10))\n",
    "    \n",
    "    \n",
    "    for x in range(0,int(1e5)):\n",
    "        if(check(x)) : return x\n",
    "    \n",
    "    return -1"
   ]
  },
  {
   "cell_type": "code",
   "execution_count": 27,
   "metadata": {},
   "outputs": [
    {
     "ename": "NameError",
     "evalue": "name 'X' is not defined",
     "output_type": "error",
     "traceback": [
      "\u001b[0;31m---------------------------------------------------------------------------\u001b[0m",
      "\u001b[0;31mNameError\u001b[0m                                 Traceback (most recent call last)",
      "Cell \u001b[0;32mIn[27], line 1\u001b[0m\n\u001b[0;32m----> 1\u001b[0m \u001b[43mX\u001b[49m\n",
      "\u001b[0;31mNameError\u001b[0m: name 'X' is not defined"
     ]
    }
   ],
   "source": [
    "X"
   ]
  },
  {
   "cell_type": "code",
   "execution_count": 204,
   "metadata": {},
   "outputs": [
    {
     "ename": "Exception",
     "evalue": "Out of Range",
     "output_type": "error",
     "traceback": [
      "\u001b[0;31m---------------------------------------------------------------------------\u001b[0m",
      "\u001b[0;31mException\u001b[0m                                 Traceback (most recent call last)",
      "Cell \u001b[0;32mIn[204], line 1\u001b[0m\n\u001b[0;32m----> 1\u001b[0m \u001b[43mbrtf\u001b[49m\u001b[43m(\u001b[49m\u001b[38;5;124;43m\"\"\"\u001b[39;49m\u001b[38;5;124;43m5 4\u001b[39;49m\n\u001b[1;32m      2\u001b[0m \u001b[38;5;124;43m5\u001b[39;49m\n\u001b[1;32m      3\u001b[0m \u001b[38;5;124;43m8 8 9\u001b[39;49m\n\u001b[1;32m      4\u001b[0m \u001b[38;5;124;43m10 1 10 10\u001b[39;49m\n\u001b[1;32m      5\u001b[0m \u001b[38;5;124;43m3\u001b[39;49m\n\u001b[1;32m      6\u001b[0m \u001b[38;5;124;43m0 0 4\u001b[39;49m\n\u001b[1;32m      7\u001b[0m \u001b[38;5;124;43m9 6 9 5\u001b[39;49m\n\u001b[1;32m      8\u001b[0m \u001b[38;5;124;43m4\u001b[39;49m\n\u001b[1;32m      9\u001b[0m \u001b[38;5;124;43m0 0 5\u001b[39;49m\n\u001b[1;32m     10\u001b[0m \u001b[38;5;124;43m5 6 6 1\u001b[39;49m\n\u001b[1;32m     11\u001b[0m \u001b[38;5;124;43m1\u001b[39;49m\n\u001b[1;32m     12\u001b[0m \u001b[38;5;124;43m6 1 9\u001b[39;49m\n\u001b[1;32m     13\u001b[0m \u001b[38;5;124;43m9 6 3 10\u001b[39;49m\n\u001b[1;32m     14\u001b[0m \u001b[38;5;124;43m5\u001b[39;49m\n\u001b[1;32m     15\u001b[0m \u001b[38;5;124;43m3 6 7\u001b[39;49m\n\u001b[1;32m     16\u001b[0m \u001b[38;5;124;43m7 3 6 9\u001b[39;49m\u001b[38;5;124;43m\"\"\"\u001b[39;49m\u001b[43m)\u001b[49m\n",
      "Cell \u001b[0;32mIn[203], line 39\u001b[0m, in \u001b[0;36mbrtf\u001b[0;34m(inp)\u001b[0m\n\u001b[1;32m     35\u001b[0m \u001b[38;5;66;03m# print(check(10))\u001b[39;00m\n\u001b[1;32m     38\u001b[0m \u001b[38;5;28;01mfor\u001b[39;00m x \u001b[38;5;129;01min\u001b[39;00m \u001b[38;5;28mrange\u001b[39m(\u001b[38;5;241m0\u001b[39m,\u001b[38;5;28mint\u001b[39m(\u001b[38;5;241m1e5\u001b[39m)):\n\u001b[0;32m---> 39\u001b[0m     \u001b[38;5;28;01mif\u001b[39;00m(\u001b[43mcheck\u001b[49m\u001b[43m(\u001b[49m\u001b[43mx\u001b[49m\u001b[43m)\u001b[49m) : \u001b[38;5;28;01mreturn\u001b[39;00m x\n\u001b[1;32m     41\u001b[0m \u001b[38;5;28;01mreturn\u001b[39;00m \u001b[38;5;241m-\u001b[39m\u001b[38;5;241m1\u001b[39m\n",
      "Cell \u001b[0;32mIn[203], line 28\u001b[0m, in \u001b[0;36mbrtf.<locals>.check\u001b[0;34m(x1)\u001b[0m\n\u001b[1;32m     24\u001b[0m     \u001b[38;5;66;03m# print(X)\u001b[39;00m\n\u001b[1;32m     25\u001b[0m \u001b[38;5;66;03m# print(int(X[0][0]) % m ,int(X[1][0]) % m)\u001b[39;00m\n\u001b[1;32m     26\u001b[0m \u001b[38;5;28;01mif\u001b[39;00m(\u001b[38;5;28mint\u001b[39m(X[\u001b[38;5;241m0\u001b[39m][\u001b[38;5;241m0\u001b[39m])  \u001b[38;5;241m<\u001b[39m \u001b[38;5;241m0\u001b[39m \u001b[38;5;129;01mor\u001b[39;00m \u001b[38;5;28mint\u001b[39m(X[\u001b[38;5;241m1\u001b[39m][\u001b[38;5;241m0\u001b[39m]) \u001b[38;5;241m<\u001b[39m \u001b[38;5;241m0\u001b[39m \u001b[38;5;129;01mor\u001b[39;00m \n\u001b[1;32m     27\u001b[0m     \u001b[38;5;28mint\u001b[39m(X[\u001b[38;5;241m0\u001b[39m][\u001b[38;5;241m0\u001b[39m]) \u001b[38;5;241m>\u001b[39m \u001b[38;5;241m1e18\u001b[39m \u001b[38;5;129;01mor\u001b[39;00m \u001b[38;5;28mint\u001b[39m(X[\u001b[38;5;241m1\u001b[39m][\u001b[38;5;241m0\u001b[39m]) \u001b[38;5;241m>\u001b[39m \u001b[38;5;241m1e18\u001b[39m ):\n\u001b[0;32m---> 28\u001b[0m     \u001b[38;5;28;01mraise\u001b[39;00m \u001b[38;5;167;01mException\u001b[39;00m(\u001b[38;5;124m\"\u001b[39m\u001b[38;5;124mOut of Range\u001b[39m\u001b[38;5;124m\"\u001b[39m)\n\u001b[1;32m     29\u001b[0m \u001b[38;5;28;01mif\u001b[39;00m \u001b[38;5;28mint\u001b[39m(X[\u001b[38;5;241m0\u001b[39m][\u001b[38;5;241m0\u001b[39m]) \u001b[38;5;241m%\u001b[39m m \u001b[38;5;241m==\u001b[39m \u001b[38;5;28mint\u001b[39m(c1) \u001b[38;5;129;01mand\u001b[39;00m \u001b[38;5;28mint\u001b[39m(X[\u001b[38;5;241m1\u001b[39m][\u001b[38;5;241m0\u001b[39m]) \u001b[38;5;241m%\u001b[39m m \u001b[38;5;241m==\u001b[39m \u001b[38;5;28mint\u001b[39m(c2) :\n\u001b[1;32m     30\u001b[0m     \u001b[38;5;28;01mpass\u001b[39;00m\n",
      "\u001b[0;31mException\u001b[0m: Out of Range"
     ]
    }
   ],
   "source": [
    "brtf(\"\"\"5 4\n",
    "5\n",
    "8 8 9\n",
    "10 1 10 10\n",
    "3\n",
    "0 0 4\n",
    "9 6 9 5\n",
    "4\n",
    "0 0 5\n",
    "5 6 6 1\n",
    "1\n",
    "6 1 9\n",
    "9 6 3 10\n",
    "5\n",
    "3 6 7\n",
    "7 3 6 9\"\"\")"
   ]
  },
  {
   "cell_type": "code",
   "execution_count": 52,
   "metadata": {},
   "outputs": [],
   "source": [
    "def run(\n",
    "    cpp_filename: str,\n",
    "    input_str: str = \"\",\n",
    "    timeout: int = 3,\n",
    "    force_recompile: bool = False\n",
    ") -> str:\n",
    "    \"\"\"\n",
    "    编译并运行C++程序，支持增量编译\n",
    "    \n",
    "    参数:\n",
    "        input_str: 输入到程序的字符串\n",
    "        cpp_filename: C++源代码文件路径\n",
    "        timeout: 程序运行超时时间（秒）\n",
    "        force_recompile: 是否强制重新编译（默认False）\n",
    "    \n",
    "    返回:\n",
    "        str: 程序的标准输出内容\n",
    "        \n",
    "    异常:\n",
    "        RuntimeError: 如果编译失败或程序运行超时\n",
    "    \"\"\"\n",
    "    # 生成唯一但稳定的可执行文件路径\n",
    "    abs_cpp_path = os.path.abspath(cpp_filename)\n",
    "    path_hash = hashlib.md5(abs_cpp_path.encode()).hexdigest()\n",
    "    exe_path = os.path.join(tempfile.gettempdir(), f\"cpp_{path_hash}\")\n",
    "\n",
    "    try:\n",
    "        # 编译条件判断\n",
    "        if force_recompile or not os.path.exists(exe_path):\n",
    "            # 编译C++程序\n",
    "            compile_proc = subprocess.run(\n",
    "                [\"g++\", cpp_filename, \"-o\", exe_path],\n",
    "                capture_output=True,\n",
    "                text=True\n",
    "            )\n",
    "            \n",
    "            if compile_proc.returncode != 0:\n",
    "                if os.path.exists(exe_path):\n",
    "                    os.remove(exe_path)  # 清理无效的可执行文件\n",
    "                raise RuntimeError(f\"编译失败：\\n{compile_proc.stderr}\")\n",
    "\n",
    "        # 运行程序\n",
    "        run_proc = subprocess.run(\n",
    "            [exe_path],\n",
    "            input=input_str,\n",
    "            capture_output=True,\n",
    "            text=True,\n",
    "            timeout=timeout\n",
    "        )\n",
    "        if len(run_proc.stderr) != 0:\n",
    "            print(\"ERR:\" + run_proc.stderr)\n",
    "        return run_proc.stdout\n",
    "\n",
    "    except subprocess.TimeoutExpired:\n",
    "        # raise RuntimeError(f\"程序{cpp_filename}运行超时（{timeout}秒）\")\n",
    "        if(cpp_filename == \"gnc.cpp\"):\n",
    "            print(f\"测试点生成失败\")\n",
    "        else :\n",
    "            print(\"TLE\")\n",
    "        # print(f\"{input_str}\")\n",
    "        return \"\"\n",
    "        \n",
    "    # except Exception as e:\n",
    "        # if os.path.exists(exe_path):\n",
    "        #     os.remove(exe_path)  # 发生异常时清理可执行文件\n",
    "        # raise"
   ]
  },
  {
   "cell_type": "code",
   "execution_count": 53,
   "metadata": {},
   "outputs": [],
   "source": [
    "seed = 113\n",
    "ans = 11\n",
    "n = 1\n",
    "CPS = 10"
   ]
  },
  {
   "cell_type": "code",
   "execution_count": 54,
   "metadata": {},
   "outputs": [],
   "source": [
    "def tgc(cin,cout,T):\n",
    "    IN = open(f\"{T}.in\",\"w\")\n",
    "    OUT = open(f\"{T}.out\",\"w\")\n",
    "    IN.write(cin)\n",
    "    OUT.write(cout)\n",
    "    IN.close()\n",
    "    OUT.close()"
   ]
  },
  {
   "cell_type": "code",
   "execution_count": 211,
   "metadata": {},
   "outputs": [
    {
     "data": {
      "text/plain": [
       "''"
      ]
     },
     "execution_count": 211,
     "metadata": {},
     "output_type": "execute_result"
    }
   ],
   "source": [
    "# compile\n",
    "run(cpp_filename=\"gnc.cpp\",force_recompile=1)\n",
    "run(cpp_filename=\"std.cpp\",force_recompile=1)\n",
    "# run(cpp_filename=\"brt.cpp\",force_recompile=1)"
   ]
  },
  {
   "cell_type": "code",
   "execution_count": 207,
   "metadata": {},
   "outputs": [
    {
     "name": "stderr",
     "output_type": "stream",
     "text": [
      "100%|██████████| 10000/10000 [00:31<00:00, 316.39it/s]\n"
     ]
    }
   ],
   "source": [
    "for i in tqdm(range(10000)):\n",
    "    key = np.random.randint(1,100000000)\n",
    "    ans = np.random.randint(1,1000)\n",
    "    n = 3\n",
    "    CPS = 10\n",
    "\n",
    "    tc = run(\n",
    "        cpp_filename = \"gnc.cpp\",\n",
    "        input_str = f\"{key} {ans} {n} {CPS}\",\n",
    "        timeout = 1\n",
    "    )\n",
    "    stdres = run(\n",
    "        cpp_filename = \"std.cpp\",\n",
    "        input_str = tc,\n",
    "        timeout = 1\n",
    "    )\n",
    "    brtres = brtf(tc)\n",
    "    if(int(stdres) != int(brtres)) :\n",
    "        print(f\"WA at:{key}\")\n",
    "        print(tc)\n",
    "        print(f\"-------\\nstd:{stdres},brt:{brtres},exp{ans}\")\n",
    "        break"
   ]
  },
  {
   "cell_type": "code",
   "execution_count": null,
   "metadata": {},
   "outputs": [],
   "source": [
    "for i in tqdm(range(10000)):\n",
    "    key = np.random.randint(1,100000000)\n",
    "    ans = -1\n",
    "    n = 3\n",
    "    CPS = 10\n",
    "\n",
    "    tc = run(\n",
    "        cpp_filename = \"gnc.cpp\",\n",
    "        input_str = f\"{key} {ans} {n} {CPS}\",\n",
    "        timeout = 1\n",
    "    )\n",
    "    stdres = run(\n",
    "        cpp_filename = \"std.cpp\",\n",
    "        input_str = tc,\n",
    "        timeout = 1\n",
    "    )\n",
    "    brtres = brtf(tc)\n",
    "    if(int(stdres) != int(brtres)) :\n",
    "        print(f\"WA at:{key}\")\n",
    "        print(tc)\n",
    "        print(f\"-------\\nstd:{stdres},brt:{brtres},exp{ans}\")\n",
    "        break"
   ]
  },
  {
   "cell_type": "code",
   "execution_count": 144,
   "metadata": {},
   "outputs": [
    {
     "name": "stdout",
     "output_type": "stream",
     "text": [
      "9\n",
      "\n"
     ]
    }
   ],
   "source": [
    "print(run(\n",
    "    cpp_filename = \"std.cpp\",\n",
    "    input_str = \"\"\"\n",
    "1 34\n",
    "1\n",
    "2 6 30\n",
    "8 10 3 26\n",
    "\"\"\",\n",
    "    force_recompile = 1\n",
    "))"
   ]
  },
  {
   "cell_type": "code",
   "execution_count": 141,
   "metadata": {},
   "outputs": [
    {
     "data": {
      "text/plain": [
       "6"
      ]
     },
     "execution_count": 141,
     "metadata": {},
     "output_type": "execute_result"
    }
   ],
   "source": [
    "(12*13)%15"
   ]
  },
  {
   "cell_type": "code",
   "execution_count": 85,
   "metadata": {},
   "outputs": [
    {
     "data": {
      "text/plain": [
       "array([[1, 1],\n",
       "       [5, 1]])"
      ]
     },
     "execution_count": 85,
     "metadata": {},
     "output_type": "execute_result"
    }
   ],
   "source": [
    "X = np.array([[10,1],[5,1]])\n",
    "X @ X\n",
    "X[0][0] %= 9\n",
    "X[0][1] %= 9\n",
    "X[1][0] %= 9\n",
    "X[1][1] %= 9\n",
    "X"
   ]
  },
  {
   "cell_type": "code",
   "execution_count": 208,
   "metadata": {},
   "outputs": [
    {
     "name": "stderr",
     "output_type": "stream",
     "text": [
      "100%|██████████| 5/5 [00:17<00:00,  3.49s/it]\n"
     ]
    }
   ],
   "source": [
    "# for 0\n",
    "T = 0\n",
    "\n",
    "CPS = int(1e9)\n",
    "\n",
    "# while True:\n",
    "\n",
    "for i in tqdm(range(5)):\n",
    "    T += 1\n",
    "    key = np.random.randint(1,1145140000)\n",
    "    ans = 0\n",
    "    n = 500\n",
    "    tc = run(\n",
    "        cpp_filename = \"gnc.cpp\",\n",
    "        input_str = f\"{key} {ans} {n} {CPS}\"\n",
    "    )\n",
    "    if(tc == \"\") :\n",
    "        T -= 1\n",
    "        continue\n",
    "    res = run(\n",
    "        cpp_filename = \"std.cpp\",\n",
    "        input_str = tc\n",
    "    )\n",
    "    # if int(res) != ans:\n",
    "    #     T -= 1\n",
    "    #     print(f\"WA at:{tc}\")\n",
    "    #     break\n",
    "    # else :\n",
    "    tgc(tc,res,T)\n",
    "        # pass\n",
    "        # print(f\"pass testcases {T}\")"
   ]
  },
  {
   "cell_type": "code",
   "execution_count": 210,
   "metadata": {},
   "outputs": [
    {
     "name": "stderr",
     "output_type": "stream",
     "text": [
      "100%|██████████| 5/5 [00:17<00:00,  3.47s/it]\n"
     ]
    }
   ],
   "source": [
    "# for rand value\n",
    "for i in tqdm(range(5)):\n",
    "    T += 1\n",
    "    key = np.random.randint(1,1145140000)\n",
    "    ans = np.random.randint(1,100000000)\n",
    "    n = 500\n",
    "    # n = 1\n",
    "    tc = run(\n",
    "        cpp_filename = \"gnc.cpp\",\n",
    "        input_str = f\"{key} {ans} {n} {CPS}\"\n",
    "    )\n",
    "    if(tc == \"\") :\n",
    "        T -= 1\n",
    "        continue\n",
    "    res = run(\n",
    "        cpp_filename = \"std.cpp\",\n",
    "        input_str = tc\n",
    "    )\n",
    "    # if int(res) != ans:\n",
    "    #     T -= 1\n",
    "    #     print(f\"WA at:{tc}\")\n",
    "    #     break\n",
    "    # else :\n",
    "    tgc(tc,res,T)\n",
    "    pass\n",
    "        # print(f\"pass testcases {T}\")"
   ]
  },
  {
   "cell_type": "code",
   "execution_count": 212,
   "metadata": {},
   "outputs": [
    {
     "name": "stderr",
     "output_type": "stream",
     "text": [
      "100%|██████████| 5/5 [00:08<00:00,  1.80s/it]\n"
     ]
    }
   ],
   "source": [
    "# for rand value\n",
    "for i in tqdm(range(5)):\n",
    "    T += 1\n",
    "    key = np.random.randint(1,1145140000)\n",
    "    ans = -1\n",
    "    n = 500\n",
    "    # n = 1\n",
    "    tc = run(\n",
    "        cpp_filename = \"gnc.cpp\",\n",
    "        input_str = f\"{key} {ans} {n} {CPS}\"\n",
    "    )\n",
    "    if(tc == \"\") :\n",
    "        T -= 1\n",
    "        continue\n",
    "    res = run(\n",
    "        cpp_filename = \"std.cpp\",\n",
    "        input_str = tc\n",
    "    )\n",
    "    # if int(res) != ans:\n",
    "    #     T -= 1\n",
    "    #     print(f\"WA at:{tc}\")\n",
    "    #     break\n",
    "    # else :\n",
    "    tgc(tc,res,T)\n",
    "    pass\n",
    "        # print(f\"pass testcases {T}\")"
   ]
  },
  {
   "cell_type": "code",
   "execution_count": 29,
   "metadata": {},
   "outputs": [
    {
     "data": {
      "text/plain": [
       "53205525"
      ]
     },
     "execution_count": 29,
     "metadata": {},
     "output_type": "execute_result"
    }
   ],
   "source": [
    "ans"
   ]
  },
  {
   "cell_type": "code",
   "execution_count": null,
   "metadata": {},
   "outputs": [],
   "source": [
    "if \"YES\" not in \"1 24131YESYES\":\n",
    "    print(111)"
   ]
  },
  {
   "cell_type": "code",
   "execution_count": 26,
   "metadata": {},
   "outputs": [
    {
     "name": "stdout",
     "output_type": "stream",
     "text": [
      "TLE\n",
      "\n"
     ]
    }
   ],
   "source": [
    "# while True:\n",
    "print(\n",
    "    run(\n",
    "        cpp_filename=\"std.cpp\",\n",
    "        input_str=run(cpp_filename=\"gnc.cpp\",input_str=f\"{key} {ans} {n}\\n\",timeout=3,force_recompile=1),\n",
    "        timeout = 1,\n",
    "        force_recompile=1\n",
    "    )\n",
    ")"
   ]
  },
  {
   "cell_type": "code",
   "execution_count": 10,
   "metadata": {},
   "outputs": [
    {
     "data": {
      "text/plain": [
       "0"
      ]
     },
     "execution_count": 10,
     "metadata": {},
     "output_type": "execute_result"
    }
   ],
   "source": [
    "ans"
   ]
  },
  {
   "cell_type": "code",
   "execution_count": 47,
   "metadata": {},
   "outputs": [
    {
     "name": "stdout",
     "output_type": "stream",
     "text": [
      "1 2\n",
      "2\n",
      "0 0 1\n",
      "9 10 5 3\n",
      "\n"
     ]
    }
   ],
   "source": [
    "print(run(cpp_filename=\"gnc.cpp\",input_str=f\"{seed} {ans} {n} {CPS}\\n\",timeout=3,force_recompile=1))"
   ]
  },
  {
   "cell_type": "code",
   "execution_count": 32,
   "metadata": {},
   "outputs": [
    {
     "name": "stdout",
     "output_type": "stream",
     "text": [
      "测试点1生成失败\n",
      "20 NO 38462\n",
      "\n"
     ]
    },
    {
     "data": {
      "text/plain": [
       "'Yes\\nNO\\n'"
      ]
     },
     "execution_count": 32,
     "metadata": {},
     "output_type": "execute_result"
    }
   ],
   "source": [
    "run(cpp_filename=\"gnc_data.cpp\",input_str=f\"{CPS} NO {np.random.randint(1,100000)}\\n\",timeout=3,force_recompile=0)"
   ]
  },
  {
   "cell_type": "code",
   "execution_count": 44,
   "metadata": {},
   "outputs": [
    {
     "name": "stdout",
     "output_type": "stream",
     "text": [
      "0 + 2 *  x  === 2 ( mod 4)\n",
      "0 + 1 *  x  === 0 ( mod 4)\n",
      "---------\n",
      "0 + 1 *  x  === 1 ( mod 4)\n",
      "0 + 1 *  x  === 0 ( mod 4)\n",
      "---------\n",
      "-1\n",
      "\n"
     ]
    }
   ],
   "source": [
    "print(run(cpp_filename=\"std.cpp\",input_str=\"\"\"1 2\n",
    "2\n",
    "4 0 4\n",
    "1 1 4 5\n",
    "\"\"\",timeout=1,\n",
    "force_recompile = 1\n",
    "))"
   ]
  },
  {
   "cell_type": "code",
   "execution_count": 76,
   "metadata": {},
   "outputs": [
    {
     "name": "stdout",
     "output_type": "stream",
     "text": [
      "    Index    Position        Prime\n",
      "0       1           0          2.0\n",
      "1       2    20408163   20408189.0\n",
      "2       3    40816326   40816387.0\n",
      "3       4    61224489   61224523.0\n",
      "4       5    81632653   81632653.0\n",
      "5       6   102040816  102040843.0\n",
      "6       7   122448979  122449007.0\n",
      "7       8   142857142  142857151.0\n",
      "8       9   163265306  163265327.0\n",
      "9      10   183673469  183673493.0\n",
      "10     11   204081632  204081637.0\n",
      "11     12   224489795  224489803.0\n",
      "12     13   244897959  244897979.0\n",
      "13     14   265306122  265306133.0\n",
      "14     15   285714285  285714287.0\n",
      "15     16   306122448  306122449.0\n",
      "16     17   326530612  326530619.0\n",
      "17     18   346938775  346938791.0\n",
      "18     19   367346938  367346977.0\n",
      "19     20   387755102  387755117.0\n",
      "20     21   408163265  408163271.0\n",
      "21     22   428571428  428571431.0\n",
      "22     23   448979591  448979593.0\n",
      "23     24   469387755  469387817.0\n",
      "24     25   489795918  489795919.0\n",
      "25     26   510204081  510204109.0\n",
      "26     27   530612244  530612263.0\n",
      "27     28   551020408  551020451.0\n",
      "28     29   571428571  571428577.0\n",
      "29     30   591836734  591836747.0\n",
      "30     31   612244897  612244901.0\n",
      "31     32   632653061  632653069.0\n",
      "32     33   653061224  653061301.0\n",
      "33     34   673469387  673469393.0\n",
      "34     35   693877551  693877567.0\n",
      "35     36   714285714  714285749.0\n",
      "36     37   734693877  734693909.0\n",
      "37     38   755102040  755102057.0\n",
      "38     39   775510204  775510231.0\n",
      "39     40   795918367  795918373.0\n",
      "40     41   816326530  816326531.0\n",
      "41     42   836734693  836734693.0\n",
      "42     43   857142857  857142887.0\n",
      "43     44   877551020  877551023.0\n",
      "44     45   897959183  897959191.0\n",
      "45     46   918367346  918367379.0\n",
      "46     47   938775510  938775533.0\n",
      "47     48   959183673  959183677.0\n",
      "48     49   979591836  979591849.0\n",
      "49     50  1000000000          NaN\n"
     ]
    }
   ],
   "source": [
    "import random\n",
    "import pandas as pd\n",
    "\n",
    "# Miller-Rabin primality test\n",
    "def is_prime(n):\n",
    "    if n < 2:\n",
    "        return False\n",
    "    small_primes = [2, 3, 5, 7, 11, 13, 17, 19, 23, 29]\n",
    "    for p in small_primes:\n",
    "        if n == p:\n",
    "            return True\n",
    "        if n % p == 0:\n",
    "            return False\n",
    "    # write n-1 as d*2^s\n",
    "    d, s = n - 1, 0\n",
    "    while d % 2 == 0:\n",
    "        d //= 2\n",
    "        s += 1\n",
    "    # test bases\n",
    "    test_bases = [2, 325, 9375, 28178, 450775, 9780504, 1795265022]\n",
    "    for a in test_bases:\n",
    "        if a % n == 0:\n",
    "            continue\n",
    "        x = pow(a, d, n)\n",
    "        if x == 1 or x == n - 1:\n",
    "            continue\n",
    "        for _ in range(s - 1):\n",
    "            x = pow(x, 2, n)\n",
    "            if x == n - 1:\n",
    "                break\n",
    "        else:\n",
    "            return False\n",
    "    return True\n",
    "\n",
    "# Generate 50 representative positions in [0, 1e9]\n",
    "positions = [int(i * (10**9) / 49) for i in range(50)]\n",
    "\n",
    "# Find the next prime at or after each position\n",
    "primes = []\n",
    "for pos in positions:\n",
    "    x = max(2, pos)\n",
    "    while x <= 10**9:\n",
    "        if is_prime(x):\n",
    "            primes.append(x)\n",
    "            break\n",
    "        x += 1\n",
    "    else:\n",
    "        primes.append(None)\n",
    "\n",
    "# Create a DataFrame and display\n",
    "df = pd.DataFrame({\n",
    "    'Index': list(range(1, 51)),\n",
    "    'Position': positions,\n",
    "    'Prime': primes\n",
    "})\n",
    "# import ace_tools as tools; tools.display_dataframe_to_user(name=\"50 Representative Primes in [0, 1e9]\", dataframe=df)\n",
    "print(df)\n"
   ]
  },
  {
   "cell_type": "code",
   "execution_count": null,
   "metadata": {},
   "outputs": [],
   "source": [
    "# 对于方程 ax === b (%m)\n"
   ]
  }
 ],
 "metadata": {
  "kernelspec": {
   "display_name": "Python 3",
   "language": "python",
   "name": "python3"
  },
  "language_info": {
   "codemirror_mode": {
    "name": "ipython",
    "version": 3
   },
   "file_extension": ".py",
   "mimetype": "text/x-python",
   "name": "python",
   "nbconvert_exporter": "python",
   "pygments_lexer": "ipython3",
   "version": "3.10.12"
  }
 },
 "nbformat": 4,
 "nbformat_minor": 2
}
