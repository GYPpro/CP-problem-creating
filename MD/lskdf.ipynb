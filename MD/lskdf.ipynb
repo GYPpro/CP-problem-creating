{
 "cells": [
  {
   "cell_type": "code",
   "execution_count": null,
   "metadata": {},
   "outputs": [
    {
     "data": {
      "text/plain": [
       "681746037"
      ]
     },
     "execution_count": 1,
     "metadata": {},
     "output_type": "execute_result"
    }
   ],
   "source": [
    "MOD = int(1e9+7)\n",
    "\n",
    "def inv(a, mod=MOD):\n",
    "    return pow(a, mod - 2, mod)\n",
    "\n",
    "(607 * inv(1260,MOD)) % MOD"
   ]
  },
  {
   "cell_type": "code",
   "execution_count": 5,
   "metadata": {},
   "outputs": [],
   "source": [
    "MOD = 10**9 + 7\n",
    "\n",
    "# 预处理阶乘和逆阶乘\n",
    "max_n = 10**6 + 10\n",
    "fact = [1] * max_n\n",
    "for i in range(1, max_n):\n",
    "    fact[i] = fact[i-1] * i % MOD\n",
    "\n",
    "inv_fact = [1] * max_n\n",
    "inv_fact[max_n-1] = pow(fact[max_n-1], MOD-2, MOD)\n",
    "for i in range(max_n-2, -1, -1):\n",
    "    inv_fact[i] = inv_fact[i+1] * (i+1) % MOD\n",
    "\n",
    "def solve(n,m):\n",
    "    # import sys\n",
    "    # input = sys.stdin.read\n",
    "    # data = input().split()\n",
    "    # T = int(input())\n",
    "    idx = 1\n",
    "    # for _ in range(T):\n",
    "    # n,m = [int(x) for x in input().split(\" \")]\n",
    "    idx +=2\n",
    "    \n",
    "    if m > n:\n",
    "        # print(0)\n",
    "        return 0\n",
    "    \n",
    "    numerator = 0\n",
    "    for k in range(0, m+1):\n",
    "        c = fact[m] * inv_fact[k] % MOD\n",
    "        c = c * inv_fact[m - k] % MOD\n",
    "        term = c * fact[n - k] % MOD\n",
    "        term = term * inv_fact[n - m] % MOD\n",
    "        if k % 2 == 1:\n",
    "            term = (-term) % MOD\n",
    "        numerator = (numerator + term) % MOD\n",
    "    \n",
    "    denominator_inv = inv_fact[n] * fact[n - m] % MOD\n",
    "    ans = numerator * denominator_inv % MOD\n",
    "    # print(ans)\n",
    "    return ans\n",
    "\n",
    "# if __name__ == \"__main__\":\n",
    "#     solve()"
   ]
  },
  {
   "cell_type": "code",
   "execution_count": 6,
   "metadata": {},
   "outputs": [
    {
     "data": {
      "text/plain": [
       "890022882"
      ]
     },
     "execution_count": 6,
     "metadata": {},
     "output_type": "execute_result"
    }
   ],
   "source": [
    "solve(1145,114)"
   ]
  },
  {
   "cell_type": "code",
   "execution_count": 7,
   "metadata": {},
   "outputs": [
    {
     "data": {
      "text/plain": [
       "115717702"
      ]
     },
     "execution_count": 7,
     "metadata": {},
     "output_type": "execute_result"
    }
   ],
   "source": [
    "solve(1000000,342522)"
   ]
  },
  {
   "cell_type": "code",
   "execution_count": 8,
   "metadata": {},
   "outputs": [
    {
     "data": {
      "text/plain": [
       "1"
      ]
     },
     "execution_count": 8,
     "metadata": {},
     "output_type": "execute_result"
    }
   ],
   "source": [
    "solve(241432,0)"
   ]
  },
  {
   "cell_type": "code",
   "execution_count": 9,
   "metadata": {},
   "outputs": [
    {
     "data": {
      "text/plain": [
       "359271619"
      ]
     },
     "execution_count": 9,
     "metadata": {},
     "output_type": "execute_result"
    }
   ],
   "source": [
    "solve(241432,1113)"
   ]
  },
  {
   "cell_type": "code",
   "execution_count": null,
   "metadata": {},
   "outputs": [],
   "source": []
  }
 ],
 "metadata": {
  "kernelspec": {
   "display_name": "Python 3",
   "language": "python",
   "name": "python3"
  },
  "language_info": {
   "codemirror_mode": {
    "name": "ipython",
    "version": 3
   },
   "file_extension": ".py",
   "mimetype": "text/x-python",
   "name": "python",
   "nbconvert_exporter": "python",
   "pygments_lexer": "ipython3",
   "version": "3.10.12"
  }
 },
 "nbformat": 4,
 "nbformat_minor": 2
}
